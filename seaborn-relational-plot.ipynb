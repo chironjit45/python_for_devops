{
 "cells": [
  {
   "cell_type": "code",
   "execution_count": 1,
   "id": "1f208657",
   "metadata": {
    "_cell_guid": "b1076dfc-b9ad-4769-8c92-a6c4dae69d19",
    "_uuid": "8f2839f25d086af736a60e9eeb907d3b93b6e0e5",
    "execution": {
     "iopub.execute_input": "2025-04-25T07:41:54.287731Z",
     "iopub.status.busy": "2025-04-25T07:41:54.287309Z",
     "iopub.status.idle": "2025-04-25T07:41:58.285913Z",
     "shell.execute_reply": "2025-04-25T07:41:58.282641Z"
    },
    "papermill": {
     "duration": 4.007037,
     "end_time": "2025-04-25T07:41:58.290024",
     "exception": false,
     "start_time": "2025-04-25T07:41:54.282987",
     "status": "completed"
    },
    "tags": []
   },
   "outputs": [
    {
     "data": {
      "text/plain": [
       "'0.12.2'"
      ]
     },
     "execution_count": 1,
     "metadata": {},
     "output_type": "execute_result"
    }
   ],
   "source": [
    "import seaborn as sns\n",
    "\n",
    "sns.set_style(style = 'darkgrid')\n",
    "sns.__version__"
   ]
  },
  {
   "cell_type": "markdown",
   "id": "83a61ac1",
   "metadata": {
    "papermill": {
     "duration": 0.003986,
     "end_time": "2025-04-25T07:41:58.298944",
     "exception": false,
     "start_time": "2025-04-25T07:41:58.294958",
     "status": "completed"
    },
    "tags": []
   },
   "source": [
    "Data Science\n",
    "     \n",
    "  - business data \n",
    "  - data analysis\n",
    "  - data processing\n",
    "  - data visulization\n",
    "  - Exploratory data analysis: Data analysis with visulization\n",
    "\n",
    "Relational plot in Seaborn: \n",
    "  - Establish the relationship between two variable / features.\n",
    "    For example, a tabular data containing room size, no of bed rooms, rent.\n",
    "    An example contains the values of each features. [1400, 2, 15k] (Features vector).\n",
    "\n",
    "If we have a ML model that predicts room rent(target variables), \n",
    "    room_size, rent has significant relationship\n",
    "    owner, rent has no significant relationship. \n",
    "    "
   ]
  },
  {
   "cell_type": "code",
   "execution_count": 2,
   "id": "5b07826d",
   "metadata": {
    "execution": {
     "iopub.execute_input": "2025-04-25T07:41:58.309128Z",
     "iopub.status.busy": "2025-04-25T07:41:58.308679Z",
     "iopub.status.idle": "2025-04-25T07:41:58.936479Z",
     "shell.execute_reply": "2025-04-25T07:41:58.935470Z"
    },
    "papermill": {
     "duration": 0.635292,
     "end_time": "2025-04-25T07:41:58.938593",
     "exception": false,
     "start_time": "2025-04-25T07:41:58.303301",
     "status": "completed"
    },
    "tags": []
   },
   "outputs": [
    {
     "data": {
      "text/html": [
       "<div>\n",
       "<style scoped>\n",
       "    .dataframe tbody tr th:only-of-type {\n",
       "        vertical-align: middle;\n",
       "    }\n",
       "\n",
       "    .dataframe tbody tr th {\n",
       "        vertical-align: top;\n",
       "    }\n",
       "\n",
       "    .dataframe thead th {\n",
       "        text-align: right;\n",
       "    }\n",
       "</style>\n",
       "<table border=\"1\" class=\"dataframe\">\n",
       "  <thead>\n",
       "    <tr style=\"text-align: right;\">\n",
       "      <th></th>\n",
       "      <th>total_bill</th>\n",
       "      <th>tip</th>\n",
       "      <th>sex</th>\n",
       "      <th>smoker</th>\n",
       "      <th>day</th>\n",
       "      <th>time</th>\n",
       "      <th>size</th>\n",
       "    </tr>\n",
       "  </thead>\n",
       "  <tbody>\n",
       "    <tr>\n",
       "      <th>0</th>\n",
       "      <td>16.99</td>\n",
       "      <td>1.01</td>\n",
       "      <td>Female</td>\n",
       "      <td>No</td>\n",
       "      <td>Sun</td>\n",
       "      <td>Dinner</td>\n",
       "      <td>2</td>\n",
       "    </tr>\n",
       "    <tr>\n",
       "      <th>1</th>\n",
       "      <td>10.34</td>\n",
       "      <td>1.66</td>\n",
       "      <td>Male</td>\n",
       "      <td>No</td>\n",
       "      <td>Sun</td>\n",
       "      <td>Dinner</td>\n",
       "      <td>3</td>\n",
       "    </tr>\n",
       "    <tr>\n",
       "      <th>2</th>\n",
       "      <td>21.01</td>\n",
       "      <td>3.50</td>\n",
       "      <td>Male</td>\n",
       "      <td>No</td>\n",
       "      <td>Sun</td>\n",
       "      <td>Dinner</td>\n",
       "      <td>3</td>\n",
       "    </tr>\n",
       "    <tr>\n",
       "      <th>3</th>\n",
       "      <td>23.68</td>\n",
       "      <td>3.31</td>\n",
       "      <td>Male</td>\n",
       "      <td>No</td>\n",
       "      <td>Sun</td>\n",
       "      <td>Dinner</td>\n",
       "      <td>2</td>\n",
       "    </tr>\n",
       "    <tr>\n",
       "      <th>4</th>\n",
       "      <td>24.59</td>\n",
       "      <td>3.61</td>\n",
       "      <td>Female</td>\n",
       "      <td>No</td>\n",
       "      <td>Sun</td>\n",
       "      <td>Dinner</td>\n",
       "      <td>4</td>\n",
       "    </tr>\n",
       "    <tr>\n",
       "      <th>...</th>\n",
       "      <td>...</td>\n",
       "      <td>...</td>\n",
       "      <td>...</td>\n",
       "      <td>...</td>\n",
       "      <td>...</td>\n",
       "      <td>...</td>\n",
       "      <td>...</td>\n",
       "    </tr>\n",
       "    <tr>\n",
       "      <th>239</th>\n",
       "      <td>29.03</td>\n",
       "      <td>5.92</td>\n",
       "      <td>Male</td>\n",
       "      <td>No</td>\n",
       "      <td>Sat</td>\n",
       "      <td>Dinner</td>\n",
       "      <td>3</td>\n",
       "    </tr>\n",
       "    <tr>\n",
       "      <th>240</th>\n",
       "      <td>27.18</td>\n",
       "      <td>2.00</td>\n",
       "      <td>Female</td>\n",
       "      <td>Yes</td>\n",
       "      <td>Sat</td>\n",
       "      <td>Dinner</td>\n",
       "      <td>2</td>\n",
       "    </tr>\n",
       "    <tr>\n",
       "      <th>241</th>\n",
       "      <td>22.67</td>\n",
       "      <td>2.00</td>\n",
       "      <td>Male</td>\n",
       "      <td>Yes</td>\n",
       "      <td>Sat</td>\n",
       "      <td>Dinner</td>\n",
       "      <td>2</td>\n",
       "    </tr>\n",
       "    <tr>\n",
       "      <th>242</th>\n",
       "      <td>17.82</td>\n",
       "      <td>1.75</td>\n",
       "      <td>Male</td>\n",
       "      <td>No</td>\n",
       "      <td>Sat</td>\n",
       "      <td>Dinner</td>\n",
       "      <td>2</td>\n",
       "    </tr>\n",
       "    <tr>\n",
       "      <th>243</th>\n",
       "      <td>18.78</td>\n",
       "      <td>3.00</td>\n",
       "      <td>Female</td>\n",
       "      <td>No</td>\n",
       "      <td>Thur</td>\n",
       "      <td>Dinner</td>\n",
       "      <td>2</td>\n",
       "    </tr>\n",
       "  </tbody>\n",
       "</table>\n",
       "<p>244 rows × 7 columns</p>\n",
       "</div>"
      ],
      "text/plain": [
       "     total_bill   tip     sex smoker   day    time  size\n",
       "0         16.99  1.01  Female     No   Sun  Dinner     2\n",
       "1         10.34  1.66    Male     No   Sun  Dinner     3\n",
       "2         21.01  3.50    Male     No   Sun  Dinner     3\n",
       "3         23.68  3.31    Male     No   Sun  Dinner     2\n",
       "4         24.59  3.61  Female     No   Sun  Dinner     4\n",
       "..          ...   ...     ...    ...   ...     ...   ...\n",
       "239       29.03  5.92    Male     No   Sat  Dinner     3\n",
       "240       27.18  2.00  Female    Yes   Sat  Dinner     2\n",
       "241       22.67  2.00    Male    Yes   Sat  Dinner     2\n",
       "242       17.82  1.75    Male     No   Sat  Dinner     2\n",
       "243       18.78  3.00  Female     No  Thur  Dinner     2\n",
       "\n",
       "[244 rows x 7 columns]"
      ]
     },
     "execution_count": 2,
     "metadata": {},
     "output_type": "execute_result"
    }
   ],
   "source": [
    "tips = sns.load_dataset('tips')\n",
    "tips"
   ]
  },
  {
   "cell_type": "code",
   "execution_count": 3,
   "id": "add735f4",
   "metadata": {
    "execution": {
     "iopub.execute_input": "2025-04-25T07:41:58.950119Z",
     "iopub.status.busy": "2025-04-25T07:41:58.949782Z",
     "iopub.status.idle": "2025-04-25T07:41:58.975876Z",
     "shell.execute_reply": "2025-04-25T07:41:58.974751Z"
    },
    "papermill": {
     "duration": 0.033781,
     "end_time": "2025-04-25T07:41:58.977530",
     "exception": false,
     "start_time": "2025-04-25T07:41:58.943749",
     "status": "completed"
    },
    "tags": []
   },
   "outputs": [
    {
     "name": "stdout",
     "output_type": "stream",
     "text": [
      "<class 'pandas.core.frame.DataFrame'>\n",
      "RangeIndex: 244 entries, 0 to 243\n",
      "Data columns (total 7 columns):\n",
      " #   Column      Non-Null Count  Dtype   \n",
      "---  ------      --------------  -----   \n",
      " 0   total_bill  244 non-null    float64 \n",
      " 1   tip         244 non-null    float64 \n",
      " 2   sex         244 non-null    category\n",
      " 3   smoker      244 non-null    category\n",
      " 4   day         244 non-null    category\n",
      " 5   time        244 non-null    category\n",
      " 6   size        244 non-null    int64   \n",
      "dtypes: category(4), float64(2), int64(1)\n",
      "memory usage: 7.4 KB\n"
     ]
    }
   ],
   "source": [
    "tips.info()"
   ]
  },
  {
   "cell_type": "code",
   "execution_count": 4,
   "id": "0eb17387",
   "metadata": {
    "execution": {
     "iopub.execute_input": "2025-04-25T07:41:58.985424Z",
     "iopub.status.busy": "2025-04-25T07:41:58.985065Z",
     "iopub.status.idle": "2025-04-25T07:41:58.993560Z",
     "shell.execute_reply": "2025-04-25T07:41:58.992545Z"
    },
    "papermill": {
     "duration": 0.014256,
     "end_time": "2025-04-25T07:41:58.995352",
     "exception": false,
     "start_time": "2025-04-25T07:41:58.981096",
     "status": "completed"
    },
    "tags": []
   },
   "outputs": [
    {
     "data": {
      "text/plain": [
       "time\n",
       "Dinner    176\n",
       "Lunch      68\n",
       "Name: count, dtype: int64"
      ]
     },
     "execution_count": 4,
     "metadata": {},
     "output_type": "execute_result"
    }
   ],
   "source": [
    "tips['time'].value_counts()"
   ]
  },
  {
   "cell_type": "code",
   "execution_count": 5,
   "id": "12905185",
   "metadata": {
    "execution": {
     "iopub.execute_input": "2025-04-25T07:41:59.003451Z",
     "iopub.status.busy": "2025-04-25T07:41:59.003091Z",
     "iopub.status.idle": "2025-04-25T07:41:59.014363Z",
     "shell.execute_reply": "2025-04-25T07:41:59.013020Z"
    },
    "papermill": {
     "duration": 0.017673,
     "end_time": "2025-04-25T07:41:59.016446",
     "exception": false,
     "start_time": "2025-04-25T07:41:58.998773",
     "status": "completed"
    },
    "tags": []
   },
   "outputs": [
    {
     "data": {
      "text/plain": [
       "day\n",
       "Sat     87\n",
       "Sun     76\n",
       "Thur    62\n",
       "Fri     19\n",
       "Name: count, dtype: int64"
      ]
     },
     "execution_count": 5,
     "metadata": {},
     "output_type": "execute_result"
    }
   ],
   "source": [
    "tips['day'].value_counts()"
   ]
  },
  {
   "cell_type": "code",
   "execution_count": 6,
   "id": "786e8054",
   "metadata": {
    "execution": {
     "iopub.execute_input": "2025-04-25T07:41:59.031070Z",
     "iopub.status.busy": "2025-04-25T07:41:59.030067Z",
     "iopub.status.idle": "2025-04-25T07:41:59.042288Z",
     "shell.execute_reply": "2025-04-25T07:41:59.040959Z"
    },
    "papermill": {
     "duration": 0.022348,
     "end_time": "2025-04-25T07:41:59.045498",
     "exception": false,
     "start_time": "2025-04-25T07:41:59.023150",
     "status": "completed"
    },
    "tags": []
   },
   "outputs": [
    {
     "data": {
      "text/plain": [
       "smoker\n",
       "No     151\n",
       "Yes     93\n",
       "Name: count, dtype: int64"
      ]
     },
     "execution_count": 6,
     "metadata": {},
     "output_type": "execute_result"
    }
   ],
   "source": [
    "tips['smoker'].value_counts()"
   ]
  },
  {
   "cell_type": "code",
   "execution_count": 7,
   "id": "99f6ae32",
   "metadata": {
    "execution": {
     "iopub.execute_input": "2025-04-25T07:41:59.057036Z",
     "iopub.status.busy": "2025-04-25T07:41:59.056676Z",
     "iopub.status.idle": "2025-04-25T07:41:59.066492Z",
     "shell.execute_reply": "2025-04-25T07:41:59.065643Z"
    },
    "papermill": {
     "duration": 0.01805,
     "end_time": "2025-04-25T07:41:59.068586",
     "exception": false,
     "start_time": "2025-04-25T07:41:59.050536",
     "status": "completed"
    },
    "tags": []
   },
   "outputs": [
    {
     "data": {
      "text/plain": [
       "sex\n",
       "Male      157\n",
       "Female     87\n",
       "Name: count, dtype: int64"
      ]
     },
     "execution_count": 7,
     "metadata": {},
     "output_type": "execute_result"
    }
   ],
   "source": [
    "tips['sex'].value_counts()"
   ]
  },
  {
   "cell_type": "markdown",
   "id": "161955c3",
   "metadata": {
    "papermill": {
     "duration": 0.005354,
     "end_time": "2025-04-25T07:41:59.079673",
     "exception": false,
     "start_time": "2025-04-25T07:41:59.074319",
     "status": "completed"
    },
    "tags": []
   },
   "source": [
    "# Ask and Verify\n",
    "   - Ask: Is there any relationship between total bill and tip? \n",
    "   - Verify: Has a positive ralationship i.e. if total bill increase we may expect that the will also increase. \n"
   ]
  },
  {
   "cell_type": "code",
   "execution_count": 8,
   "id": "a26ce409",
   "metadata": {
    "execution": {
     "iopub.execute_input": "2025-04-25T07:41:59.090200Z",
     "iopub.status.busy": "2025-04-25T07:41:59.089788Z",
     "iopub.status.idle": "2025-04-25T07:41:59.574537Z",
     "shell.execute_reply": "2025-04-25T07:41:59.573647Z"
    },
    "papermill": {
     "duration": 0.490725,
     "end_time": "2025-04-25T07:41:59.576137",
     "exception": false,
     "start_time": "2025-04-25T07:41:59.085412",
     "status": "completed"
    },
    "tags": []
   },
   "outputs": [
    {
     "data": {
      "text/plain": [
       "<seaborn.axisgrid.FacetGrid at 0x7dac05de05d0>"
      ]
     },
     "execution_count": 8,
     "metadata": {},
     "output_type": "execute_result"
    },
    {
     "data": {
      "image/png": "[encoded data removed]",
      "text/plain": [
       "<Figure size 500x500 with 1 Axes>"
      ]
     },
     "metadata": {},
     "output_type": "display_data"
    }
   ],
   "source": [
    "sns.relplot(\n",
    "    data = tips,\n",
    "    x = 'total_bill',\n",
    "    y = 'tip',\n",
    ")"
   ]
  },
  {
   "cell_type": "code",
   "execution_count": null,
   "id": "5ac6c8ad",
   "metadata": {
    "papermill": {
     "duration": 0.00359,
     "end_time": "2025-04-25T07:41:59.583632",
     "exception": false,
     "start_time": "2025-04-25T07:41:59.580042",
     "status": "completed"
    },
    "tags": []
   },
   "outputs": [],
   "source": []
  }
 ],
 "metadata": {
  "kaggle": {
   "accelerator": "none",
   "dataSources": [],
   "dockerImageVersionId": 31012,
   "isGpuEnabled": false,
   "isInternetEnabled": true,
   "language": "python",
   "sourceType": "notebook"
  },
  "kernelspec": {
   "display_name": "Python 3",
   "language": "python",
   "name": "python3"
  },
  "language_info": {
   "codemirror_mode": {
    "name": "ipython",
    "version": 3
   },
   "file_extension": ".py",
   "mimetype": "text/x-python",
   "name": "python",
   "nbconvert_exporter": "python",
   "pygments_lexer": "ipython3",
   "version": "3.11.11"
  },
  "papermill": {
   "default_parameters": {},
   "duration": 10.954529,
   "end_time": "2025-04-25T07:42:00.308463",
   "environment_variables": {},
   "exception": null,
   "input_path": "__notebook__.ipynb",
   "output_path": "__notebook__.ipynb",
   "parameters": {},
   "start_time": "2025-04-25T07:41:49.353934",
   "version": "2.6.0"
  }
 },
 "nbformat": 4,
 "nbformat_minor": 5
}
