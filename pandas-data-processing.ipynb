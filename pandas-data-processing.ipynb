{
 "cells": [
  {
   "cell_type": "code",
   "execution_count": 1,
   "id": "90562c1f",
   "metadata": {
    "execution": {
     "iopub.execute_input": "2025-04-24T19:10:45.083470Z",
     "iopub.status.busy": "2025-04-24T19:10:45.083146Z",
     "iopub.status.idle": "2025-04-24T19:10:47.093630Z",
     "shell.execute_reply": "2025-04-24T19:10:47.092716Z"
    },
    "papermill": {
     "duration": 2.018878,
     "end_time": "2025-04-24T19:10:47.095345",
     "exception": false,
     "start_time": "2025-04-24T19:10:45.076467",
     "status": "completed"
    },
    "tags": []
   },
   "outputs": [
    {
     "data": {
      "text/plain": [
       "'2.2.3'"
      ]
     },
     "execution_count": 1,
     "metadata": {},
     "output_type": "execute_result"
    }
   ],
   "source": [
    "import pandas as pd\n",
    "import numpy as np\n",
    "pd.__version__"
   ]
  },
  {
   "cell_type": "markdown",
   "id": "03d1e5e1",
   "metadata": {
    "papermill": {
     "duration": 0.005756,
     "end_time": "2025-04-24T19:10:47.107291",
     "exception": false,
     "start_time": "2025-04-24T19:10:47.101535",
     "status": "completed"
    },
    "tags": []
   },
   "source": [
    "## create a numpay array"
   ]
  },
  {
   "cell_type": "code",
   "execution_count": 2,
   "id": "f0a55916",
   "metadata": {
    "execution": {
     "iopub.execute_input": "2025-04-24T19:10:47.122775Z",
     "iopub.status.busy": "2025-04-24T19:10:47.122258Z",
     "iopub.status.idle": "2025-04-24T19:10:47.131580Z",
     "shell.execute_reply": "2025-04-24T19:10:47.130060Z"
    },
    "papermill": {
     "duration": 0.020259,
     "end_time": "2025-04-24T19:10:47.133496",
     "exception": false,
     "start_time": "2025-04-24T19:10:47.113237",
     "status": "completed"
    },
    "tags": []
   },
   "outputs": [
    {
     "name": "stdout",
     "output_type": "stream",
     "text": [
      "[1 2 3]\n"
     ]
    }
   ],
   "source": [
    "\n",
    "my_np_array =  np.array(\n",
    "    [1,2,3]\n",
    ")\n",
    "print(my_np_array)"
   ]
  },
  {
   "cell_type": "markdown",
   "id": "76a6c675",
   "metadata": {
    "papermill": {
     "duration": 0.007227,
     "end_time": "2025-04-24T19:10:47.148299",
     "exception": false,
     "start_time": "2025-04-24T19:10:47.141072",
     "status": "completed"
    },
    "tags": []
   },
   "source": [
    "# Numpy properties: dtype, shape, ndim"
   ]
  },
  {
   "cell_type": "code",
   "execution_count": 3,
   "id": "12512f5d",
   "metadata": {
    "execution": {
     "iopub.execute_input": "2025-04-24T19:10:47.162450Z",
     "iopub.status.busy": "2025-04-24T19:10:47.161508Z",
     "iopub.status.idle": "2025-04-24T19:10:47.168317Z",
     "shell.execute_reply": "2025-04-24T19:10:47.167331Z"
    },
    "papermill": {
     "duration": 0.015095,
     "end_time": "2025-04-24T19:10:47.170274",
     "exception": false,
     "start_time": "2025-04-24T19:10:47.155179",
     "status": "completed"
    },
    "tags": []
   },
   "outputs": [
    {
     "name": "stdout",
     "output_type": "stream",
     "text": [
      "[1 2 3]\n",
      "<class 'numpy.ndarray'>\n",
      "int64\n",
      "(3,)\n",
      "1\n"
     ]
    }
   ],
   "source": [
    "print(my_np_array)\n",
    "print(type(my_np_array))   \n",
    "print(my_np_array.dtype)      # print data type \n",
    "print(my_np_array.shape)      # print shape the array\n",
    "print(my_np_array.ndim)       # print number of dimention of the array \n"
   ]
  },
  {
   "cell_type": "markdown",
   "id": "64c68f50",
   "metadata": {
    "papermill": {
     "duration": 0.00863,
     "end_time": "2025-04-24T19:10:47.187563",
     "exception": false,
     "start_time": "2025-04-24T19:10:47.178933",
     "status": "completed"
    },
    "tags": []
   },
   "source": [
    "# create an array with all zeros"
   ]
  },
  {
   "cell_type": "code",
   "execution_count": 4,
   "id": "6a52c225",
   "metadata": {
    "execution": {
     "iopub.execute_input": "2025-04-24T19:10:47.200705Z",
     "iopub.status.busy": "2025-04-24T19:10:47.200397Z",
     "iopub.status.idle": "2025-04-24T19:10:47.206173Z",
     "shell.execute_reply": "2025-04-24T19:10:47.205050Z"
    },
    "papermill": {
     "duration": 0.013852,
     "end_time": "2025-04-24T19:10:47.207696",
     "exception": false,
     "start_time": "2025-04-24T19:10:47.193844",
     "status": "completed"
    },
    "tags": []
   },
   "outputs": [
    {
     "name": "stdout",
     "output_type": "stream",
     "text": [
      "[0. 0. 0. 0. 0.]\n"
     ]
    }
   ],
   "source": [
    "zeros_np_array = np.zeros(\n",
    "    shape = (5,)\n",
    ")\n",
    "print(zeros_np_array)"
   ]
  },
  {
   "cell_type": "markdown",
   "id": "01f8f050",
   "metadata": {
    "papermill": {
     "duration": 0.004661,
     "end_time": "2025-04-24T19:10:47.217276",
     "exception": false,
     "start_time": "2025-04-24T19:10:47.212615",
     "status": "completed"
    },
    "tags": []
   },
   "source": []
  },
  {
   "cell_type": "markdown",
   "id": "2df48c09",
   "metadata": {
    "papermill": {
     "duration": 0.004305,
     "end_time": "2025-04-24T19:10:47.227425",
     "exception": false,
     "start_time": "2025-04-24T19:10:47.223120",
     "status": "completed"
    },
    "tags": []
   },
   "source": [
    "# Create an array with all ones"
   ]
  },
  {
   "cell_type": "code",
   "execution_count": 5,
   "id": "d6e3bea5",
   "metadata": {
    "execution": {
     "iopub.execute_input": "2025-04-24T19:10:47.238196Z",
     "iopub.status.busy": "2025-04-24T19:10:47.237786Z",
     "iopub.status.idle": "2025-04-24T19:10:47.244244Z",
     "shell.execute_reply": "2025-04-24T19:10:47.243278Z"
    },
    "papermill": {
     "duration": 0.01376,
     "end_time": "2025-04-24T19:10:47.245888",
     "exception": false,
     "start_time": "2025-04-24T19:10:47.232128",
     "status": "completed"
    },
    "tags": []
   },
   "outputs": [
    {
     "name": "stdout",
     "output_type": "stream",
     "text": [
      "[[1 1]\n",
      " [1 1]\n",
      " [1 1]\n",
      " [1 1]\n",
      " [1 1]\n",
      " [1 1]\n",
      " [1 1]\n",
      " [1 1]\n",
      " [1 1]\n",
      " [1 1]]\n",
      "int64\n"
     ]
    }
   ],
   "source": [
    "ones_np_array = np.ones(\n",
    "    shape = (10,2),\n",
    "    dtype = 'int'\n",
    ")\n",
    "print(ones_np_array)\n",
    "print(ones_np_array.dtype)"
   ]
  },
  {
   "cell_type": "markdown",
   "id": "8a675515",
   "metadata": {
    "papermill": {
     "duration": 0.00473,
     "end_time": "2025-04-24T19:10:47.259314",
     "exception": false,
     "start_time": "2025-04-24T19:10:47.254584",
     "status": "completed"
    },
    "tags": []
   },
   "source": [
    "# Create an array with a specific value"
   ]
  },
  {
   "cell_type": "code",
   "execution_count": 6,
   "id": "15ad90f1",
   "metadata": {
    "execution": {
     "iopub.execute_input": "2025-04-24T19:10:47.270642Z",
     "iopub.status.busy": "2025-04-24T19:10:47.270266Z",
     "iopub.status.idle": "2025-04-24T19:10:47.277552Z",
     "shell.execute_reply": "2025-04-24T19:10:47.276470Z"
    },
    "papermill": {
     "duration": 0.014591,
     "end_time": "2025-04-24T19:10:47.279096",
     "exception": false,
     "start_time": "2025-04-24T19:10:47.264505",
     "status": "completed"
    },
    "tags": []
   },
   "outputs": [
    {
     "data": {
      "text/plain": [
       "array([15, 15, 15, 15, 15, 15, 15, 15, 15, 15])"
      ]
     },
     "execution_count": 6,
     "metadata": {},
     "output_type": "execute_result"
    }
   ],
   "source": [
    "assigned_with_specific_np_array = np.full(\n",
    "    shape = (10, ),\n",
    "    fill_value = 15\n",
    ")\n",
    "assigned_with_specific_np_array"
   ]
  },
  {
   "cell_type": "markdown",
   "id": "d698f572",
   "metadata": {
    "papermill": {
     "duration": 0.007064,
     "end_time": "2025-04-24T19:10:47.294964",
     "exception": false,
     "start_time": "2025-04-24T19:10:47.287900",
     "status": "completed"
    },
    "tags": []
   },
   "source": [
    "# Create an identity matrix \n",
    "'''[1 0 0]\n",
    "   [0 1 0]\n",
    "   [0 0 1] \n",
    "'''\n",
    "This is I3 matrix\n",
    "\n"
   ]
  },
  {
   "cell_type": "code",
   "execution_count": 7,
   "id": "25003fa9",
   "metadata": {
    "execution": {
     "iopub.execute_input": "2025-04-24T19:10:47.306604Z",
     "iopub.status.busy": "2025-04-24T19:10:47.305776Z",
     "iopub.status.idle": "2025-04-24T19:10:47.312213Z",
     "shell.execute_reply": "2025-04-24T19:10:47.311113Z"
    },
    "papermill": {
     "duration": 0.013616,
     "end_time": "2025-04-24T19:10:47.313575",
     "exception": false,
     "start_time": "2025-04-24T19:10:47.299959",
     "status": "completed"
    },
    "tags": []
   },
   "outputs": [
    {
     "name": "stdout",
     "output_type": "stream",
     "text": [
      "[[1. 0. 0. 0.]\n",
      " [0. 1. 0. 0.]\n",
      " [0. 0. 1. 0.]\n",
      " [0. 0. 0. 1.]]\n"
     ]
    }
   ],
   "source": [
    "id_matrix = np.eye(4)\n",
    "print(id_matrix)"
   ]
  },
  {
   "cell_type": "markdown",
   "id": "7d125a36",
   "metadata": {
    "papermill": {
     "duration": 0.004718,
     "end_time": "2025-04-24T19:10:47.323309",
     "exception": false,
     "start_time": "2025-04-24T19:10:47.318591",
     "status": "completed"
    },
    "tags": []
   },
   "source": [
    "# Create an empty matrix"
   ]
  },
  {
   "cell_type": "code",
   "execution_count": 8,
   "id": "cbcb31b0",
   "metadata": {
    "execution": {
     "iopub.execute_input": "2025-04-24T19:10:47.335758Z",
     "iopub.status.busy": "2025-04-24T19:10:47.334959Z",
     "iopub.status.idle": "2025-04-24T19:10:47.342174Z",
     "shell.execute_reply": "2025-04-24T19:10:47.341182Z"
    },
    "papermill": {
     "duration": 0.014582,
     "end_time": "2025-04-24T19:10:47.343620",
     "exception": false,
     "start_time": "2025-04-24T19:10:47.329038",
     "status": "completed"
    },
    "tags": []
   },
   "outputs": [
    {
     "data": {
      "text/plain": [
       "array([0., 0., 0., 0., 0.])"
      ]
     },
     "execution_count": 8,
     "metadata": {},
     "output_type": "execute_result"
    }
   ],
   "source": [
    "my_empty_np_array = np.empty(\n",
    "    shape = (5,)\n",
    ")\n",
    "my_empty_np_array"
   ]
  },
  {
   "cell_type": "markdown",
   "id": "40215a00",
   "metadata": {
    "papermill": {
     "duration": 0.005929,
     "end_time": "2025-04-24T19:10:47.354675",
     "exception": false,
     "start_time": "2025-04-24T19:10:47.348746",
     "status": "completed"
    },
    "tags": []
   },
   "source": [
    "# Type cast Conversion to dtype "
   ]
  },
  {
   "cell_type": "code",
   "execution_count": 9,
   "id": "8357258e",
   "metadata": {
    "execution": {
     "iopub.execute_input": "2025-04-24T19:10:47.367472Z",
     "iopub.status.busy": "2025-04-24T19:10:47.367080Z",
     "iopub.status.idle": "2025-04-24T19:10:47.374456Z",
     "shell.execute_reply": "2025-04-24T19:10:47.372821Z"
    },
    "papermill": {
     "duration": 0.016825,
     "end_time": "2025-04-24T19:10:47.376555",
     "exception": false,
     "start_time": "2025-04-24T19:10:47.359730",
     "status": "completed"
    },
    "tags": []
   },
   "outputs": [
    {
     "name": "stdout",
     "output_type": "stream",
     "text": [
      "float64\n",
      "[0 0 0 0 0]\n",
      "int64\n"
     ]
    }
   ],
   "source": [
    "print(my_empty_np_array.dtype)\n",
    "my_empty_np_array_int = my_empty_np_array.astype('int')\n",
    "print(my_empty_np_array_int)\n",
    "print(my_empty_np_array_int.dtype)"
   ]
  },
  {
   "cell_type": "markdown",
   "id": "e4368106",
   "metadata": {
    "papermill": {
     "duration": 0.005926,
     "end_time": "2025-04-24T19:10:47.392044",
     "exception": false,
     "start_time": "2025-04-24T19:10:47.386118",
     "status": "completed"
    },
    "tags": []
   },
   "source": [
    "# Create a sequential array"
   ]
  },
  {
   "cell_type": "code",
   "execution_count": 10,
   "id": "caff7af8",
   "metadata": {
    "execution": {
     "iopub.execute_input": "2025-04-24T19:10:47.411297Z",
     "iopub.status.busy": "2025-04-24T19:10:47.410672Z",
     "iopub.status.idle": "2025-04-24T19:10:47.419879Z",
     "shell.execute_reply": "2025-04-24T19:10:47.418911Z"
    },
    "papermill": {
     "duration": 0.022138,
     "end_time": "2025-04-24T19:10:47.421676",
     "exception": false,
     "start_time": "2025-04-24T19:10:47.399538",
     "status": "completed"
    },
    "tags": []
   },
   "outputs": [
    {
     "data": {
      "text/plain": [
       "array([1, 2, 3, 4, 5, 6, 7, 8, 9])"
      ]
     },
     "execution_count": 10,
     "metadata": {},
     "output_type": "execute_result"
    }
   ],
   "source": [
    "my_array = np.arange(1,10,1)\n",
    "my_array"
   ]
  },
  {
   "cell_type": "markdown",
   "id": "71f06914",
   "metadata": {
    "papermill": {
     "duration": 0.008476,
     "end_time": "2025-04-24T19:10:47.441588",
     "exception": false,
     "start_time": "2025-04-24T19:10:47.433112",
     "status": "completed"
    },
    "tags": []
   },
   "source": [
    "# use linspace :  start, A, B, C, stop"
   ]
  },
  {
   "cell_type": "code",
   "execution_count": 11,
   "id": "855cf051",
   "metadata": {
    "execution": {
     "iopub.execute_input": "2025-04-24T19:10:47.453708Z",
     "iopub.status.busy": "2025-04-24T19:10:47.453413Z",
     "iopub.status.idle": "2025-04-24T19:10:47.460076Z",
     "shell.execute_reply": "2025-04-24T19:10:47.459060Z"
    },
    "papermill": {
     "duration": 0.014324,
     "end_time": "2025-04-24T19:10:47.461577",
     "exception": false,
     "start_time": "2025-04-24T19:10:47.447253",
     "status": "completed"
    },
    "tags": []
   },
   "outputs": [
    {
     "data": {
      "text/plain": [
       "array([ 0. ,  2.5,  5. ,  7.5, 10. ])"
      ]
     },
     "execution_count": 11,
     "metadata": {},
     "output_type": "execute_result"
    }
   ],
   "source": [
    "my_np_array = np.linspace(\n",
    "    start = 0,\n",
    "    stop = 10,\n",
    "    num = 5\n",
    ")\n",
    "my_np_array"
   ]
  },
  {
   "cell_type": "markdown",
   "id": "32df01b0",
   "metadata": {
    "papermill": {
     "duration": 0.005162,
     "end_time": "2025-04-24T19:10:47.472043",
     "exception": false,
     "start_time": "2025-04-24T19:10:47.466881",
     "status": "completed"
    },
    "tags": []
   },
   "source": [
    "# Numpy array dimensions Mathematical objects \n",
    "\n",
    "- scalar -> 0D\n",
    "- vector -> 1D\n",
    "- matrix -> 2D\n",
    "- tensor ->xD where x>2\n",
    "Tensor is a unit data type of pyTorch and Tensorflow"
   ]
  },
  {
   "cell_type": "code",
   "execution_count": 12,
   "id": "8eb10269",
   "metadata": {
    "execution": {
     "iopub.execute_input": "2025-04-24T19:10:47.484047Z",
     "iopub.status.busy": "2025-04-24T19:10:47.483645Z",
     "iopub.status.idle": "2025-04-24T19:10:47.492364Z",
     "shell.execute_reply": "2025-04-24T19:10:47.491252Z"
    },
    "papermill": {
     "duration": 0.016515,
     "end_time": "2025-04-24T19:10:47.493848",
     "exception": false,
     "start_time": "2025-04-24T19:10:47.477333",
     "status": "completed"
    },
    "tags": []
   },
   "outputs": [
    {
     "name": "stdout",
     "output_type": "stream",
     "text": [
      "0-dimensional array: 45  Number of dimension: 0\n",
      "1 Dimensional array: [1 2 3 4 5] Number of dimensional: 1\n",
      "2-dimensional array: \n",
      "[[1 2 3 4]\n",
      " [5 6 7 8]\n",
      " [7 1 2 7]]\n",
      "number of dimentional:  2\n"
     ]
    }
   ],
   "source": [
    "my_0d_array = np.array(45)\n",
    "print('0-dimensional array:', my_0d_array, ' Number of dimension:',my_0d_array.ndim)\n",
    "\n",
    "my_1d_array = np.array(\n",
    "    [1,2,3,4,5]\n",
    ")\n",
    "print('1 Dimensional array:', my_1d_array,'Number of dimensional:',my_1d_array.ndim)\n",
    "\n",
    "my_2d_array = np.array(\n",
    "    [\n",
    "        [1,2,3,4],\n",
    "        [5,6,7,8],\n",
    "        [7,1,2,7]\n",
    "    ]\n",
    ")\n",
    "print('2-dimensional array: ')\n",
    "print(my_2d_array)\n",
    "print(\"number of dimentional: \",my_2d_array.ndim)"
   ]
  },
  {
   "cell_type": "code",
   "execution_count": 13,
   "id": "6d3095f1",
   "metadata": {
    "execution": {
     "iopub.execute_input": "2025-04-24T19:10:47.506111Z",
     "iopub.status.busy": "2025-04-24T19:10:47.505705Z",
     "iopub.status.idle": "2025-04-24T19:10:47.511598Z",
     "shell.execute_reply": "2025-04-24T19:10:47.510761Z"
    },
    "papermill": {
     "duration": 0.01388,
     "end_time": "2025-04-24T19:10:47.513141",
     "exception": false,
     "start_time": "2025-04-24T19:10:47.499261",
     "status": "completed"
    },
    "tags": []
   },
   "outputs": [
    {
     "name": "stdout",
     "output_type": "stream",
     "text": [
      "(5, 3, 7)\n"
     ]
    }
   ],
   "source": [
    "zeros_np_array = np.zeros(\n",
    "    shape=(5,3,7)\n",
    ")\n",
    "\n",
    "print(zeros_np_array.shape)"
   ]
  },
  {
   "cell_type": "code",
   "execution_count": 14,
   "id": "5251b3b2",
   "metadata": {
    "execution": {
     "iopub.execute_input": "2025-04-24T19:10:47.525053Z",
     "iopub.status.busy": "2025-04-24T19:10:47.524713Z",
     "iopub.status.idle": "2025-04-24T19:10:47.531378Z",
     "shell.execute_reply": "2025-04-24T19:10:47.530023Z"
    },
    "papermill": {
     "duration": 0.014951,
     "end_time": "2025-04-24T19:10:47.533483",
     "exception": false,
     "start_time": "2025-04-24T19:10:47.518532",
     "status": "completed"
    },
    "tags": []
   },
   "outputs": [
    {
     "name": "stdout",
     "output_type": "stream",
     "text": [
      "3\n",
      "3\n"
     ]
    }
   ],
   "source": [
    "\"\"\" Numpy indexing\n",
    "1. Non-negative indexing (0, 1, 2, ...)\n",
    "2. Negative indexing (-1, -2, ...)\n",
    "\"\"\"\n",
    "\n",
    "my_np_array = np.array(\n",
    "    [1, 2, 3, 4, 5]\n",
    ")\n",
    "\n",
    "print(my_np_array[2])\n",
    "print(my_np_array[-3])"
   ]
  },
  {
   "cell_type": "code",
   "execution_count": 15,
   "id": "06a636e1",
   "metadata": {
    "execution": {
     "iopub.execute_input": "2025-04-24T19:10:47.554460Z",
     "iopub.status.busy": "2025-04-24T19:10:47.554007Z",
     "iopub.status.idle": "2025-04-24T19:10:47.560299Z",
     "shell.execute_reply": "2025-04-24T19:10:47.559094Z"
    },
    "papermill": {
     "duration": 0.016456,
     "end_time": "2025-04-24T19:10:47.562015",
     "exception": false,
     "start_time": "2025-04-24T19:10:47.545559",
     "status": "completed"
    },
    "tags": []
   },
   "outputs": [
    {
     "name": "stdout",
     "output_type": "stream",
     "text": [
      "8\n",
      "8\n"
     ]
    }
   ],
   "source": [
    "my_2d_array = np.array(\n",
    "    [[1, 2, 3, 4],\n",
    "     [5, 8, 9, 5],\n",
    "     [7, 1, 2, 7]]\n",
    ") \n",
    "\n",
    "print(my_2d_array[1,1])\n",
    "print(my_2d_array[1,-3])"
   ]
  },
  {
   "cell_type": "markdown",
   "id": "7a496840",
   "metadata": {
    "papermill": {
     "duration": 0.011546,
     "end_time": "2025-04-24T19:10:47.586555",
     "exception": false,
     "start_time": "2025-04-24T19:10:47.575009",
     "status": "completed"
    },
    "tags": []
   },
   "source": [
    "\"\"\"numpy slicing\n",
    "    - array_name[start:end] => open interval [start, end)\n",
    "    - array_name[start:end:step]\n",
    "    - end index is excluded\n",
    "    - default values: start=0, end=n, step=1\n",
    "\"\"\"* "
   ]
  },
  {
   "cell_type": "code",
   "execution_count": 16,
   "id": "ff61672f",
   "metadata": {
    "execution": {
     "iopub.execute_input": "2025-04-24T19:10:47.602832Z",
     "iopub.status.busy": "2025-04-24T19:10:47.602479Z",
     "iopub.status.idle": "2025-04-24T19:10:47.609395Z",
     "shell.execute_reply": "2025-04-24T19:10:47.608343Z"
    },
    "papermill": {
     "duration": 0.01761,
     "end_time": "2025-04-24T19:10:47.611178",
     "exception": false,
     "start_time": "2025-04-24T19:10:47.593568",
     "status": "completed"
    },
    "tags": []
   },
   "outputs": [
    {
     "name": "stdout",
     "output_type": "stream",
     "text": [
      "[1 2 3 4 5]\n",
      "[3 4 5]\n",
      "[2 4]\n"
     ]
    }
   ],
   "source": [
    "my_1d_array = np.array(\n",
    "    [1, 2, 3, 4, 5]\n",
    ")\n",
    "\n",
    "print(my_1d_array[::])\n",
    "print(my_1d_array[2:5])\n",
    "print(my_1d_array[1:5:2])"
   ]
  },
  {
   "cell_type": "code",
   "execution_count": 17,
   "id": "93cbffa8",
   "metadata": {
    "execution": {
     "iopub.execute_input": "2025-04-24T19:10:47.636138Z",
     "iopub.status.busy": "2025-04-24T19:10:47.635748Z",
     "iopub.status.idle": "2025-04-24T19:10:47.644074Z",
     "shell.execute_reply": "2025-04-24T19:10:47.642564Z"
    },
    "papermill": {
     "duration": 0.024386,
     "end_time": "2025-04-24T19:10:47.645704",
     "exception": false,
     "start_time": "2025-04-24T19:10:47.621318",
     "status": "completed"
    },
    "tags": []
   },
   "outputs": [
    {
     "name": "stdout",
     "output_type": "stream",
     "text": [
      "[[2 3]\n",
      " [8 9]]\n",
      "[[5 8 9 5]\n",
      " [7 1 2 7]]\n"
     ]
    }
   ],
   "source": [
    "my_2d_array = np.array(\n",
    "    [[1, 2, 3, 4],\n",
    "     [5, 8, 9, 5],\n",
    "     [7, 1, 2, 7]]\n",
    ") \n",
    "\n",
    "print(my_2d_array[0:2,1:3])\n",
    "\n",
    "print(my_2d_array[1:3,])"
   ]
  }
 ],
 "metadata": {
  "kaggle": {
   "accelerator": "none",
   "dataSources": [],
   "dockerImageVersionId": 31012,
   "isGpuEnabled": false,
   "isInternetEnabled": true,
   "language": "python",
   "sourceType": "notebook"
  },
  "kernelspec": {
   "display_name": "Python 3",
   "language": "python",
   "name": "python3"
  },
  "language_info": {
   "codemirror_mode": {
    "name": "ipython",
    "version": 3
   },
   "file_extension": ".py",
   "mimetype": "text/x-python",
   "name": "python",
   "nbconvert_exporter": "python",
   "pygments_lexer": "ipython3",
   "version": "3.11.11"
  },
  "papermill": {
   "default_parameters": {},
   "duration": 10.171856,
   "end_time": "2025-04-24T19:10:50.341230",
   "environment_variables": {},
   "exception": null,
   "input_path": "__notebook__.ipynb",
   "output_path": "__notebook__.ipynb",
   "parameters": {},
   "start_time": "2025-04-24T19:10:40.169374",
   "version": "2.6.0"
  }
 },
 "nbformat": 4,
 "nbformat_minor": 5
}
