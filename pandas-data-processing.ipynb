{
 "cells": [
  {
   "cell_type": "code",
   "execution_count": 1,
   "id": "66e481fe",
   "metadata": {
    "execution": {
     "iopub.execute_input": "2025-04-24T18:42:46.357652Z",
     "iopub.status.busy": "2025-04-24T18:42:46.357299Z",
     "iopub.status.idle": "2025-04-24T18:42:48.290465Z",
     "shell.execute_reply": "2025-04-24T18:42:48.289579Z"
    },
    "papermill": {
     "duration": 1.942117,
     "end_time": "2025-04-24T18:42:48.292092",
     "exception": false,
     "start_time": "2025-04-24T18:42:46.349975",
     "status": "completed"
    },
    "tags": []
   },
   "outputs": [
    {
     "data": {
      "text/plain": [
       "'2.2.3'"
      ]
     },
     "execution_count": 1,
     "metadata": {},
     "output_type": "execute_result"
    }
   ],
   "source": [
    "import pandas as pd\n",
    "import numpy as np\n",
    "pd.__version__"
   ]
  },
  {
   "cell_type": "markdown",
   "id": "0bfdc26f",
   "metadata": {
    "papermill": {
     "duration": 0.005155,
     "end_time": "2025-04-24T18:42:48.303146",
     "exception": false,
     "start_time": "2025-04-24T18:42:48.297991",
     "status": "completed"
    },
    "tags": []
   },
   "source": [
    "## create a numpay array"
   ]
  },
  {
   "cell_type": "code",
   "execution_count": 2,
   "id": "d462983d",
   "metadata": {
    "execution": {
     "iopub.execute_input": "2025-04-24T18:42:48.317268Z",
     "iopub.status.busy": "2025-04-24T18:42:48.316453Z",
     "iopub.status.idle": "2025-04-24T18:42:48.323194Z",
     "shell.execute_reply": "2025-04-24T18:42:48.322291Z"
    },
    "papermill": {
     "duration": 0.014552,
     "end_time": "2025-04-24T18:42:48.324468",
     "exception": false,
     "start_time": "2025-04-24T18:42:48.309916",
     "status": "completed"
    },
    "tags": []
   },
   "outputs": [
    {
     "name": "stdout",
     "output_type": "stream",
     "text": [
      "[1 2 3]\n"
     ]
    }
   ],
   "source": [
    "\n",
    "my_np_array =  np.array(\n",
    "    [1,2,3]\n",
    ")\n",
    "print(my_np_array)"
   ]
  },
  {
   "cell_type": "markdown",
   "id": "c1c9c815",
   "metadata": {
    "papermill": {
     "duration": 0.005209,
     "end_time": "2025-04-24T18:42:48.335468",
     "exception": false,
     "start_time": "2025-04-24T18:42:48.330259",
     "status": "completed"
    },
    "tags": []
   },
   "source": [
    "# Numpy properties: dtype, shape, ndim"
   ]
  },
  {
   "cell_type": "code",
   "execution_count": 3,
   "id": "2f1d1b43",
   "metadata": {
    "execution": {
     "iopub.execute_input": "2025-04-24T18:42:48.347839Z",
     "iopub.status.busy": "2025-04-24T18:42:48.347206Z",
     "iopub.status.idle": "2025-04-24T18:42:48.352792Z",
     "shell.execute_reply": "2025-04-24T18:42:48.351805Z"
    },
    "papermill": {
     "duration": 0.013243,
     "end_time": "2025-04-24T18:42:48.354172",
     "exception": false,
     "start_time": "2025-04-24T18:42:48.340929",
     "status": "completed"
    },
    "tags": []
   },
   "outputs": [
    {
     "name": "stdout",
     "output_type": "stream",
     "text": [
      "[1 2 3]\n",
      "<class 'numpy.ndarray'>\n",
      "int64\n",
      "(3,)\n",
      "1\n"
     ]
    }
   ],
   "source": [
    "print(my_np_array)\n",
    "print(type(my_np_array))   \n",
    "print(my_np_array.dtype)      # print data type \n",
    "print(my_np_array.shape)      # print shape the array\n",
    "print(my_np_array.ndim)       # print number of dimention of the array \n"
   ]
  },
  {
   "cell_type": "markdown",
   "id": "0406996c",
   "metadata": {
    "papermill": {
     "duration": 0.005052,
     "end_time": "2025-04-24T18:42:48.364744",
     "exception": false,
     "start_time": "2025-04-24T18:42:48.359692",
     "status": "completed"
    },
    "tags": []
   },
   "source": [
    "# create an array with all zeros"
   ]
  },
  {
   "cell_type": "code",
   "execution_count": 4,
   "id": "94ef0348",
   "metadata": {
    "execution": {
     "iopub.execute_input": "2025-04-24T18:42:48.377199Z",
     "iopub.status.busy": "2025-04-24T18:42:48.376450Z",
     "iopub.status.idle": "2025-04-24T18:42:48.381957Z",
     "shell.execute_reply": "2025-04-24T18:42:48.380758Z"
    },
    "papermill": {
     "duration": 0.013393,
     "end_time": "2025-04-24T18:42:48.383491",
     "exception": false,
     "start_time": "2025-04-24T18:42:48.370098",
     "status": "completed"
    },
    "tags": []
   },
   "outputs": [
    {
     "name": "stdout",
     "output_type": "stream",
     "text": [
      "[0. 0. 0. 0. 0.]\n"
     ]
    }
   ],
   "source": [
    "zeros_np_array = np.zeros(\n",
    "    shape = (5,)\n",
    ")\n",
    "print(zeros_np_array)"
   ]
  },
  {
   "cell_type": "markdown",
   "id": "5d777574",
   "metadata": {
    "papermill": {
     "duration": 0.00509,
     "end_time": "2025-04-24T18:42:48.394384",
     "exception": false,
     "start_time": "2025-04-24T18:42:48.389294",
     "status": "completed"
    },
    "tags": []
   },
   "source": []
  },
  {
   "cell_type": "markdown",
   "id": "a32628e3",
   "metadata": {
    "papermill": {
     "duration": 0.005276,
     "end_time": "2025-04-24T18:42:48.404949",
     "exception": false,
     "start_time": "2025-04-24T18:42:48.399673",
     "status": "completed"
    },
    "tags": []
   },
   "source": [
    "# Create an array with all ones"
   ]
  },
  {
   "cell_type": "code",
   "execution_count": 5,
   "id": "bcbc2566",
   "metadata": {
    "execution": {
     "iopub.execute_input": "2025-04-24T18:42:48.416804Z",
     "iopub.status.busy": "2025-04-24T18:42:48.416495Z",
     "iopub.status.idle": "2025-04-24T18:42:48.422268Z",
     "shell.execute_reply": "2025-04-24T18:42:48.421351Z"
    },
    "papermill": {
     "duration": 0.013472,
     "end_time": "2025-04-24T18:42:48.423670",
     "exception": false,
     "start_time": "2025-04-24T18:42:48.410198",
     "status": "completed"
    },
    "tags": []
   },
   "outputs": [
    {
     "name": "stdout",
     "output_type": "stream",
     "text": [
      "[[1 1]\n",
      " [1 1]\n",
      " [1 1]\n",
      " [1 1]\n",
      " [1 1]\n",
      " [1 1]\n",
      " [1 1]\n",
      " [1 1]\n",
      " [1 1]\n",
      " [1 1]]\n",
      "int64\n"
     ]
    }
   ],
   "source": [
    "ones_np_array = np.ones(\n",
    "    shape = (10,2),\n",
    "    dtype = 'int'\n",
    ")\n",
    "print(ones_np_array)\n",
    "print(ones_np_array.dtype)"
   ]
  },
  {
   "cell_type": "markdown",
   "id": "e11d07bc",
   "metadata": {
    "papermill": {
     "duration": 0.005157,
     "end_time": "2025-04-24T18:42:48.434442",
     "exception": false,
     "start_time": "2025-04-24T18:42:48.429285",
     "status": "completed"
    },
    "tags": []
   },
   "source": [
    "# Create an array with a specific value"
   ]
  },
  {
   "cell_type": "code",
   "execution_count": 6,
   "id": "2c67a574",
   "metadata": {
    "execution": {
     "iopub.execute_input": "2025-04-24T18:42:48.446361Z",
     "iopub.status.busy": "2025-04-24T18:42:48.446074Z",
     "iopub.status.idle": "2025-04-24T18:42:48.451935Z",
     "shell.execute_reply": "2025-04-24T18:42:48.451190Z"
    },
    "papermill": {
     "duration": 0.013547,
     "end_time": "2025-04-24T18:42:48.453277",
     "exception": false,
     "start_time": "2025-04-24T18:42:48.439730",
     "status": "completed"
    },
    "tags": []
   },
   "outputs": [
    {
     "data": {
      "text/plain": [
       "array([15, 15, 15, 15, 15, 15, 15, 15, 15, 15])"
      ]
     },
     "execution_count": 6,
     "metadata": {},
     "output_type": "execute_result"
    }
   ],
   "source": [
    "assigned_with_specific_np_array = np.full(\n",
    "    shape = (10, ),\n",
    "    fill_value = 15\n",
    ")\n",
    "assigned_with_specific_np_array"
   ]
  },
  {
   "cell_type": "markdown",
   "id": "8e20c4d3",
   "metadata": {
    "papermill": {
     "duration": 0.005289,
     "end_time": "2025-04-24T18:42:48.464214",
     "exception": false,
     "start_time": "2025-04-24T18:42:48.458925",
     "status": "completed"
    },
    "tags": []
   },
   "source": [
    "# Create an identity matrix \n",
    "'''[1 0 0]\n",
    "   [0 1 0]\n",
    "   [0 0 1] \n",
    "'''\n",
    "This is I3 matrix\n",
    "\n"
   ]
  },
  {
   "cell_type": "code",
   "execution_count": 7,
   "id": "cd469dfc",
   "metadata": {
    "execution": {
     "iopub.execute_input": "2025-04-24T18:42:48.477362Z",
     "iopub.status.busy": "2025-04-24T18:42:48.476337Z",
     "iopub.status.idle": "2025-04-24T18:42:48.481804Z",
     "shell.execute_reply": "2025-04-24T18:42:48.480971Z"
    },
    "papermill": {
     "duration": 0.013528,
     "end_time": "2025-04-24T18:42:48.483340",
     "exception": false,
     "start_time": "2025-04-24T18:42:48.469812",
     "status": "completed"
    },
    "tags": []
   },
   "outputs": [
    {
     "name": "stdout",
     "output_type": "stream",
     "text": [
      "[[1. 0. 0. 0.]\n",
      " [0. 1. 0. 0.]\n",
      " [0. 0. 1. 0.]\n",
      " [0. 0. 0. 1.]]\n"
     ]
    }
   ],
   "source": [
    "id_matrix = np.eye(4)\n",
    "print(id_matrix)"
   ]
  },
  {
   "cell_type": "markdown",
   "id": "9360cc16",
   "metadata": {
    "papermill": {
     "duration": 0.005494,
     "end_time": "2025-04-24T18:42:48.494600",
     "exception": false,
     "start_time": "2025-04-24T18:42:48.489106",
     "status": "completed"
    },
    "tags": []
   },
   "source": [
    "# Create an empty matrix"
   ]
  },
  {
   "cell_type": "code",
   "execution_count": 8,
   "id": "4f11035e",
   "metadata": {
    "execution": {
     "iopub.execute_input": "2025-04-24T18:42:48.507029Z",
     "iopub.status.busy": "2025-04-24T18:42:48.506696Z",
     "iopub.status.idle": "2025-04-24T18:42:48.512972Z",
     "shell.execute_reply": "2025-04-24T18:42:48.512096Z"
    },
    "papermill": {
     "duration": 0.014349,
     "end_time": "2025-04-24T18:42:48.514473",
     "exception": false,
     "start_time": "2025-04-24T18:42:48.500124",
     "status": "completed"
    },
    "tags": []
   },
   "outputs": [
    {
     "data": {
      "text/plain": [
       "array([0., 0., 0., 0., 0.])"
      ]
     },
     "execution_count": 8,
     "metadata": {},
     "output_type": "execute_result"
    }
   ],
   "source": [
    "my_empty_np_array = np.empty(\n",
    "    shape = (5,)\n",
    ")\n",
    "my_empty_np_array"
   ]
  },
  {
   "cell_type": "markdown",
   "id": "60280009",
   "metadata": {
    "papermill": {
     "duration": 0.00573,
     "end_time": "2025-04-24T18:42:48.526144",
     "exception": false,
     "start_time": "2025-04-24T18:42:48.520414",
     "status": "completed"
    },
    "tags": []
   },
   "source": [
    "# Type cast Conversion to dtype "
   ]
  },
  {
   "cell_type": "code",
   "execution_count": 9,
   "id": "95805fca",
   "metadata": {
    "execution": {
     "iopub.execute_input": "2025-04-24T18:42:48.538771Z",
     "iopub.status.busy": "2025-04-24T18:42:48.538426Z",
     "iopub.status.idle": "2025-04-24T18:42:48.544052Z",
     "shell.execute_reply": "2025-04-24T18:42:48.543129Z"
    },
    "papermill": {
     "duration": 0.014002,
     "end_time": "2025-04-24T18:42:48.545809",
     "exception": false,
     "start_time": "2025-04-24T18:42:48.531807",
     "status": "completed"
    },
    "tags": []
   },
   "outputs": [
    {
     "name": "stdout",
     "output_type": "stream",
     "text": [
      "float64\n",
      "[0 0 0 0 0]\n",
      "int64\n"
     ]
    }
   ],
   "source": [
    "print(my_empty_np_array.dtype)\n",
    "my_empty_np_array_int = my_empty_np_array.astype('int')\n",
    "print(my_empty_np_array_int)\n",
    "print(my_empty_np_array_int.dtype)"
   ]
  },
  {
   "cell_type": "markdown",
   "id": "d536809a",
   "metadata": {
    "papermill": {
     "duration": 0.006937,
     "end_time": "2025-04-24T18:42:48.562143",
     "exception": false,
     "start_time": "2025-04-24T18:42:48.555206",
     "status": "completed"
    },
    "tags": []
   },
   "source": [
    "# Create a sequential array"
   ]
  },
  {
   "cell_type": "code",
   "execution_count": 10,
   "id": "4aaad10d",
   "metadata": {
    "execution": {
     "iopub.execute_input": "2025-04-24T18:42:48.575629Z",
     "iopub.status.busy": "2025-04-24T18:42:48.575260Z",
     "iopub.status.idle": "2025-04-24T18:42:48.581720Z",
     "shell.execute_reply": "2025-04-24T18:42:48.580799Z"
    },
    "papermill": {
     "duration": 0.014858,
     "end_time": "2025-04-24T18:42:48.583110",
     "exception": false,
     "start_time": "2025-04-24T18:42:48.568252",
     "status": "completed"
    },
    "tags": []
   },
   "outputs": [
    {
     "data": {
      "text/plain": [
       "array([1, 2, 3, 4, 5, 6, 7, 8, 9])"
      ]
     },
     "execution_count": 10,
     "metadata": {},
     "output_type": "execute_result"
    }
   ],
   "source": [
    "my_array = np.arange(1,10,1)\n",
    "my_array"
   ]
  },
  {
   "cell_type": "markdown",
   "id": "91c476ab",
   "metadata": {
    "papermill": {
     "duration": 0.00554,
     "end_time": "2025-04-24T18:42:48.594631",
     "exception": false,
     "start_time": "2025-04-24T18:42:48.589091",
     "status": "completed"
    },
    "tags": []
   },
   "source": [
    "# use linspace :  start, A, B, C, stop"
   ]
  },
  {
   "cell_type": "code",
   "execution_count": 11,
   "id": "3cf94038",
   "metadata": {
    "execution": {
     "iopub.execute_input": "2025-04-24T18:42:48.607585Z",
     "iopub.status.busy": "2025-04-24T18:42:48.607306Z",
     "iopub.status.idle": "2025-04-24T18:42:48.613719Z",
     "shell.execute_reply": "2025-04-24T18:42:48.612846Z"
    },
    "papermill": {
     "duration": 0.014693,
     "end_time": "2025-04-24T18:42:48.615172",
     "exception": false,
     "start_time": "2025-04-24T18:42:48.600479",
     "status": "completed"
    },
    "tags": []
   },
   "outputs": [
    {
     "data": {
      "text/plain": [
       "array([ 0. ,  2.5,  5. ,  7.5, 10. ])"
      ]
     },
     "execution_count": 11,
     "metadata": {},
     "output_type": "execute_result"
    }
   ],
   "source": [
    "my_np_array = np.linspace(\n",
    "    start = 0,\n",
    "    stop = 10,\n",
    "    num = 5\n",
    ")\n",
    "my_np_array"
   ]
  },
  {
   "cell_type": "markdown",
   "id": "82600a75",
   "metadata": {
    "papermill": {
     "duration": 0.005919,
     "end_time": "2025-04-24T18:42:48.627232",
     "exception": false,
     "start_time": "2025-04-24T18:42:48.621313",
     "status": "completed"
    },
    "tags": []
   },
   "source": [
    "# Numpy array dimensions Mathematical objects \n",
    "\n",
    "- scalar -> 0D\n",
    "- vector -> 1D\n",
    "- matrix -> 2D\n",
    "- tensor ->xD where x>2\n",
    "Tensor is a unit data type of pyTorch and Tensorflow"
   ]
  },
  {
   "cell_type": "code",
   "execution_count": 12,
   "id": "ada25b3d",
   "metadata": {
    "execution": {
     "iopub.execute_input": "2025-04-24T18:42:48.640898Z",
     "iopub.status.busy": "2025-04-24T18:42:48.640534Z",
     "iopub.status.idle": "2025-04-24T18:42:48.647317Z",
     "shell.execute_reply": "2025-04-24T18:42:48.646332Z"
    },
    "papermill": {
     "duration": 0.015425,
     "end_time": "2025-04-24T18:42:48.649001",
     "exception": false,
     "start_time": "2025-04-24T18:42:48.633576",
     "status": "completed"
    },
    "tags": []
   },
   "outputs": [
    {
     "name": "stdout",
     "output_type": "stream",
     "text": [
      "0-dimensional array: 45  Number of dimension: 0\n",
      "1 Dimensional array: [1 2 3 4 5] Number of dimensional: 1\n",
      "2-dimensional array: \n",
      "[[1 2 3 4]\n",
      " [5 6 7 8]\n",
      " [7 1 2 7]]\n",
      "number of dimentional:  2\n"
     ]
    }
   ],
   "source": [
    "my_0d_array = np.array(45)\n",
    "print('0-dimensional array:', my_0d_array, ' Number of dimension:',my_0d_array.ndim)\n",
    "\n",
    "my_1d_array = np.array(\n",
    "    [1,2,3,4,5]\n",
    ")\n",
    "print('1 Dimensional array:', my_1d_array,'Number of dimensional:',my_1d_array.ndim)\n",
    "\n",
    "my_2d_array = np.array(\n",
    "    [\n",
    "        [1,2,3,4],\n",
    "        [5,6,7,8],\n",
    "        [7,1,2,7]\n",
    "    ]\n",
    ")\n",
    "print('2-dimensional array: ')\n",
    "print(my_2d_array)\n",
    "print(\"number of dimentional: \",my_2d_array.ndim)"
   ]
  },
  {
   "cell_type": "code",
   "execution_count": 13,
   "id": "a0e268ec",
   "metadata": {
    "execution": {
     "iopub.execute_input": "2025-04-24T18:42:48.663152Z",
     "iopub.status.busy": "2025-04-24T18:42:48.662318Z",
     "iopub.status.idle": "2025-04-24T18:42:48.668366Z",
     "shell.execute_reply": "2025-04-24T18:42:48.667271Z"
    },
    "papermill": {
     "duration": 0.014752,
     "end_time": "2025-04-24T18:42:48.670038",
     "exception": false,
     "start_time": "2025-04-24T18:42:48.655286",
     "status": "completed"
    },
    "tags": []
   },
   "outputs": [
    {
     "name": "stdout",
     "output_type": "stream",
     "text": [
      "(5, 3, 7)\n"
     ]
    }
   ],
   "source": [
    "zeros_np_array = np.zeros(\n",
    "    shape=(5,3,7)\n",
    ")\n",
    "\n",
    "print(zeros_np_array.shape)"
   ]
  },
  {
   "cell_type": "code",
   "execution_count": 14,
   "id": "9a42098f",
   "metadata": {
    "execution": {
     "iopub.execute_input": "2025-04-24T18:42:48.684106Z",
     "iopub.status.busy": "2025-04-24T18:42:48.683735Z",
     "iopub.status.idle": "2025-04-24T18:42:48.689837Z",
     "shell.execute_reply": "2025-04-24T18:42:48.688883Z"
    },
    "papermill": {
     "duration": 0.014638,
     "end_time": "2025-04-24T18:42:48.691389",
     "exception": false,
     "start_time": "2025-04-24T18:42:48.676751",
     "status": "completed"
    },
    "tags": []
   },
   "outputs": [
    {
     "name": "stdout",
     "output_type": "stream",
     "text": [
      "3\n",
      "3\n"
     ]
    }
   ],
   "source": [
    "\"\"\" Numpy indexing\n",
    "1. Non-negative indexing (0, 1, 2, ...)\n",
    "2. Negative indexing (-1, -2, ...)\n",
    "\"\"\"\n",
    "\n",
    "my_np_array = np.array(\n",
    "    [1, 2, 3, 4, 5]\n",
    ")\n",
    "\n",
    "print(my_np_array[2])\n",
    "print(my_np_array[-3])"
   ]
  },
  {
   "cell_type": "code",
   "execution_count": 15,
   "id": "db1b3254",
   "metadata": {
    "execution": {
     "iopub.execute_input": "2025-04-24T18:42:48.705609Z",
     "iopub.status.busy": "2025-04-24T18:42:48.704717Z",
     "iopub.status.idle": "2025-04-24T18:42:48.710385Z",
     "shell.execute_reply": "2025-04-24T18:42:48.709609Z"
    },
    "papermill": {
     "duration": 0.014122,
     "end_time": "2025-04-24T18:42:48.711835",
     "exception": false,
     "start_time": "2025-04-24T18:42:48.697713",
     "status": "completed"
    },
    "tags": []
   },
   "outputs": [
    {
     "name": "stdout",
     "output_type": "stream",
     "text": [
      "8\n",
      "8\n"
     ]
    }
   ],
   "source": [
    "my_2d_array = np.array(\n",
    "    [[1, 2, 3, 4],\n",
    "     [5, 8, 9, 5],\n",
    "     [7, 1, 2, 7]]\n",
    ") \n",
    "\n",
    "print(my_2d_array[1,1])\n",
    "print(my_2d_array[1,-3])"
   ]
  },
  {
   "cell_type": "markdown",
   "id": "bd99f9d9",
   "metadata": {
    "papermill": {
     "duration": 0.005804,
     "end_time": "2025-04-24T18:42:48.724012",
     "exception": false,
     "start_time": "2025-04-24T18:42:48.718208",
     "status": "completed"
    },
    "tags": []
   },
   "source": [
    "\"\"\"numpy slicing\n",
    "    - array_name[start:end] => open interval [start, end)\n",
    "    - array_name[start:end:step]\n",
    "    - end index is excluded\n",
    "    - default values: start=0, end=n, step=1\n",
    "\"\"\"* "
   ]
  },
  {
   "cell_type": "code",
   "execution_count": 16,
   "id": "760d2ead",
   "metadata": {
    "execution": {
     "iopub.execute_input": "2025-04-24T18:42:48.737386Z",
     "iopub.status.busy": "2025-04-24T18:42:48.737076Z",
     "iopub.status.idle": "2025-04-24T18:42:48.742740Z",
     "shell.execute_reply": "2025-04-24T18:42:48.741776Z"
    },
    "papermill": {
     "duration": 0.014105,
     "end_time": "2025-04-24T18:42:48.744223",
     "exception": false,
     "start_time": "2025-04-24T18:42:48.730118",
     "status": "completed"
    },
    "tags": []
   },
   "outputs": [
    {
     "name": "stdout",
     "output_type": "stream",
     "text": [
      "[1 2 3 4 5]\n",
      "[3 4 5]\n",
      "[2 4]\n"
     ]
    }
   ],
   "source": [
    "my_1d_array = np.array(\n",
    "    [1, 2, 3, 4, 5]\n",
    ")\n",
    "\n",
    "print(my_1d_array[::])\n",
    "print(my_1d_array[2:5])\n",
    "print(my_1d_array[1:5:2])"
   ]
  },
  {
   "cell_type": "code",
   "execution_count": 17,
   "id": "1b6d6365",
   "metadata": {
    "execution": {
     "iopub.execute_input": "2025-04-24T18:42:48.758844Z",
     "iopub.status.busy": "2025-04-24T18:42:48.758581Z",
     "iopub.status.idle": "2025-04-24T18:42:48.764327Z",
     "shell.execute_reply": "2025-04-24T18:42:48.763174Z"
    },
    "papermill": {
     "duration": 0.014393,
     "end_time": "2025-04-24T18:42:48.765862",
     "exception": false,
     "start_time": "2025-04-24T18:42:48.751469",
     "status": "completed"
    },
    "tags": []
   },
   "outputs": [
    {
     "name": "stdout",
     "output_type": "stream",
     "text": [
      "[[2 3]\n",
      " [8 9]]\n",
      "[[5 8 9 5]\n",
      " [7 1 2 7]]\n"
     ]
    }
   ],
   "source": [
    "my_2d_array = np.array(\n",
    "    [[1, 2, 3, 4],\n",
    "     [5, 8, 9, 5],\n",
    "     [7, 1, 2, 7]]\n",
    ") \n",
    "\n",
    "print(my_2d_array[0:2,1:3])\n",
    "\n",
    "print(my_2d_array[1:3,])"
   ]
  },
  {
   "cell_type": "code",
   "execution_count": null,
   "id": "7f739429",
   "metadata": {
    "papermill": {
     "duration": 0.006023,
     "end_time": "2025-04-24T18:42:48.778487",
     "exception": false,
     "start_time": "2025-04-24T18:42:48.772464",
     "status": "completed"
    },
    "tags": []
   },
   "outputs": [],
   "source": []
  },
  {
   "cell_type": "code",
   "execution_count": null,
   "id": "85d0c057",
   "metadata": {
    "papermill": {
     "duration": 0.006177,
     "end_time": "2025-04-24T18:42:48.860013",
     "exception": false,
     "start_time": "2025-04-24T18:42:48.853836",
     "status": "completed"
    },
    "tags": []
   },
   "outputs": [],
   "source": []
  },
  {
   "cell_type": "code",
   "execution_count": null,
   "id": "a6b288ff",
   "metadata": {
    "papermill": {
     "duration": 0.006051,
     "end_time": "2025-04-24T18:42:48.872537",
     "exception": false,
     "start_time": "2025-04-24T18:42:48.866486",
     "status": "completed"
    },
    "tags": []
   },
   "outputs": [],
   "source": []
  },
  {
   "cell_type": "code",
   "execution_count": null,
   "id": "a878bbd4",
   "metadata": {
    "papermill": {
     "duration": 0.005984,
     "end_time": "2025-04-24T18:42:48.884802",
     "exception": false,
     "start_time": "2025-04-24T18:42:48.878818",
     "status": "completed"
    },
    "tags": []
   },
   "outputs": [],
   "source": []
  },
  {
   "cell_type": "code",
   "execution_count": null,
   "id": "39a6411c",
   "metadata": {
    "papermill": {
     "duration": 0.006043,
     "end_time": "2025-04-24T18:42:48.897316",
     "exception": false,
     "start_time": "2025-04-24T18:42:48.891273",
     "status": "completed"
    },
    "tags": []
   },
   "outputs": [],
   "source": []
  },
  {
   "cell_type": "code",
   "execution_count": null,
   "id": "7b774a3e",
   "metadata": {
    "papermill": {
     "duration": 0.006171,
     "end_time": "2025-04-24T18:42:48.909758",
     "exception": false,
     "start_time": "2025-04-24T18:42:48.903587",
     "status": "completed"
    },
    "tags": []
   },
   "outputs": [],
   "source": []
  },
  {
   "cell_type": "code",
   "execution_count": null,
   "id": "3f435bee",
   "metadata": {
    "papermill": {
     "duration": 0.005967,
     "end_time": "2025-04-24T18:42:48.922122",
     "exception": false,
     "start_time": "2025-04-24T18:42:48.916155",
     "status": "completed"
    },
    "tags": []
   },
   "outputs": [],
   "source": []
  },
  {
   "cell_type": "code",
   "execution_count": null,
   "id": "a8022bc9",
   "metadata": {
    "papermill": {
     "duration": 0.005955,
     "end_time": "2025-04-24T18:42:48.934250",
     "exception": false,
     "start_time": "2025-04-24T18:42:48.928295",
     "status": "completed"
    },
    "tags": []
   },
   "outputs": [],
   "source": []
  }
 ],
 "metadata": {
  "kaggle": {
   "accelerator": "none",
   "dataSources": [],
   "dockerImageVersionId": 31012,
   "isGpuEnabled": false,
   "isInternetEnabled": true,
   "language": "python",
   "sourceType": "notebook"
  },
  "kernelspec": {
   "display_name": "Python 3",
   "language": "python",
   "name": "python3"
  },
  "language_info": {
   "codemirror_mode": {
    "name": "ipython",
    "version": 3
   },
   "file_extension": ".py",
   "mimetype": "text/x-python",
   "name": "python",
   "nbconvert_exporter": "python",
   "pygments_lexer": "ipython3",
   "version": "3.11.11"
  },
  "papermill": {
   "default_parameters": {},
   "duration": 7.819251,
   "end_time": "2025-04-24T18:42:49.460086",
   "environment_variables": {},
   "exception": null,
   "input_path": "__notebook__.ipynb",
   "output_path": "__notebook__.ipynb",
   "parameters": {},
   "start_time": "2025-04-24T18:42:41.640835",
   "version": "2.6.0"
  }
 },
 "nbformat": 4,
 "nbformat_minor": 5
}
